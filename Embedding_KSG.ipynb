{
 "cells": [
  {
   "cell_type": "code",
   "execution_count": 1,
   "id": "1b2fe01d",
   "metadata": {},
   "outputs": [],
   "source": [
    "import os\n",
    "import pandas as pd\n",
    "from dotenv import load_dotenv\n",
    "from ibm_watsonx_ai.metanames import EmbedTextParamsMetaNames\n",
    "from langchain_ibm import WatsonxEmbeddings\n",
    "from langchain_chroma import Chroma\n",
    "from langchain.text_splitter import RecursiveCharacterTextSplitter\n",
    "\n"
   ]
  },
  {
   "cell_type": "code",
   "execution_count": 2,
   "id": "2a1ccbda",
   "metadata": {},
   "outputs": [],
   "source": [
    "# 1. .env 환경변수 불러오기\n",
    "\n",
    "load_dotenv()\n",
    "\n",
    "WATSONX_API = os.environ['API_KEY']\n",
    "PROJECT_ID = os.environ['PROJECT_ID']\n",
    "IBM_URL = os.environ['IBM_CLOUD_URL']\n"
   ]
  },
  {
   "cell_type": "code",
   "execution_count": 3,
   "id": "5a0bc4e6",
   "metadata": {},
   "outputs": [],
   "source": [
    "# 2. 데이터 로드 (정상 + 스미싱)\n",
    "\n",
    "df1 = pd.read_csv(\"labeled_normal_messages.csv\")    # 정상\n",
    "df2 = pd.read_csv(\"labeled_smishing_messages.csv\")  # 스미싱\n",
    "df = pd.concat([df1, df2], ignore_index=True)"
   ]
  },
  {
   "cell_type": "code",
   "execution_count": 4,
   "id": "739a8a8a",
   "metadata": {},
   "outputs": [],
   "source": [
    "# 3. 문서 준비\n",
    "texts = df[\"message\"].tolist()\n",
    "metadatas = [{\"label\": label} for label in df[\"label\"].tolist()]"
   ]
  },
  {
   "cell_type": "code",
   "execution_count": 5,
   "id": "c4acba6c",
   "metadata": {},
   "outputs": [],
   "source": [
    "# 4. 텍스트 청크 분할\n",
    "\n",
    "text_splitter = RecursiveCharacterTextSplitter(\n",
    "    chunk_size=80, # 평균적인 문자메시지 길이 고려\n",
    "    chunk_overlap=10,\n",
    "    length_function=len\n",
    ")\n",
    "\n",
    "docs = text_splitter.create_documents(texts, metadatas=metadatas)"
   ]
  },
  {
   "cell_type": "code",
   "execution_count": 6,
   "id": "7472bbcc",
   "metadata": {},
   "outputs": [],
   "source": [
    "# 5. 임베딩 모델 설정\n",
    "\n",
    "# MODEL_ID = 'ibm/slate-125m-english-rtrvr'\n",
    "MODEL_ID = 'ibm/granite-embedding-278m-multilingual' # English -> Multilingual\n",
    "embed_params = {\n",
    "    EmbedTextParamsMetaNames.TRUNCATE_INPUT_TOKENS: 3, # 입력 텍스트가 모델 최대 토큰 수를 초과할 경우 가장 뒤쪽을 자른다는 의미\n",
    "    EmbedTextParamsMetaNames.RETURN_OPTIONS: {\"input_text\": True},\n",
    "}\n",
    "\n",
    "watsonx_embedding = WatsonxEmbeddings(\n",
    "    model_id=MODEL_ID,\n",
    "    url=IBM_URL,\n",
    "    project_id=PROJECT_ID,\n",
    "    params=embed_params,\n",
    "    apikey=WATSONX_API\n",
    ")"
   ]
  },
  {
   "cell_type": "code",
   "execution_count": 7,
   "id": "be5559dd",
   "metadata": {},
   "outputs": [
    {
     "name": "stdout",
     "output_type": "stream",
     "text": [
      "✅ 임베딩 및 Vector DB 저장 완료!\n"
     ]
    }
   ],
   "source": [
    "# 6. ChromaDB 설정 및 저장\n",
    "\n",
    "persist_directory = \"./chroma_store\" # Local에 저장할 경로\n",
    "\n",
    "vectorstore = Chroma(\n",
    "    collection_name=\"sms_messages\",\n",
    "    embedding_function=watsonx_embedding,\n",
    "    persist_directory=persist_directory\n",
    ")\n",
    "\n",
    "vectorstore.add_documents(docs)\n",
    "# vectorstore.persist()\n",
    "\n",
    "print(\"✅ 임베딩 및 Vector DB 저장 완료!\")"
   ]
  },
  {
   "cell_type": "code",
   "execution_count": 10,
   "id": "4a324d06",
   "metadata": {},
   "outputs": [
    {
     "name": "stdout",
     "output_type": "stream",
     "text": [
      "\n",
      "🔍 유사한 메시지 Top 3:\n",
      "\n",
      "[1] (스미싱, score=0.0000)\n",
      "[Web발신] 과태료 미납 내역 발생. 자세한 정보 확인 바랍니다. http://t.ly/fl2j2l23c\n",
      "\n",
      "[2] (스미싱, score=0.0000)\n",
      "[Web발신] [교통위반] 범칙금 고지서 발송 완료. 확인 필수 http://t.ly/ewzu3\n",
      "\n",
      "[3] (스미싱, score=0.0000)\n",
      "[Web발신] 모바일 돌잔치 초대장을 보내드립니다. 확인해주세요. http://me2.do/pfe230f\n"
     ]
    }
   ],
   "source": [
    "# 7. 유사 문장 검색 테스트\n",
    "\n",
    "query = \"[Web발신] 모바일 인증번호가 도착했습니다. 링크 접속 필요 http://short.kr/gbkg8\"\n",
    "results = vectorstore.similarity_search_with_score(query, k=3) # 코사인 유사도 기반\n",
    "\n",
    "print(\"\\n🔍 유사한 메시지 Top 3:\")\n",
    "for i, (doc, score) in enumerate(results):\n",
    "    print(f\"\\n[{i+1}] ({doc.metadata['label']}, score={score:.4f})\")\n",
    "    print(doc.page_content)\n"
   ]
  }
 ],
 "metadata": {
  "kernelspec": {
   "display_name": ".venv (3.11.9)",
   "language": "python",
   "name": "python3"
  },
  "language_info": {
   "codemirror_mode": {
    "name": "ipython",
    "version": 3
   },
   "file_extension": ".py",
   "mimetype": "text/x-python",
   "name": "python",
   "nbconvert_exporter": "python",
   "pygments_lexer": "ipython3",
   "version": "3.11.9"
  }
 },
 "nbformat": 4,
 "nbformat_minor": 5
}
